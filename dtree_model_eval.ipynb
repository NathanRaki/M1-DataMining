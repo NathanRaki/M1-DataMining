{
 "cells": [
  {
   "cell_type": "code",
   "execution_count": null,
   "metadata": {},
   "outputs": [],
   "source": [
    "import os\n",
    "import pickle\n",
    "import pandas as pd\n",
    "import numpy as np\n",
    "from sklearn import model_selection\n",
    "from sklearn.preprocessing import LabelEncoder\n",
    "from sklearn.tree import DecisionTreeClassifier\n",
    "from sklearn.metrics import confusion_matrix,accuracy_score,precision_score,classification_report"
   ]
  },
  {
   "cell_type": "markdown",
   "metadata": {},
   "source": [
    "# Modélisation"
   ]
  },
  {
   "cell_type": "code",
   "execution_count": null,
   "metadata": {},
   "outputs": [],
   "source": [
    "print(os.path.abspath(''))\n",
    "file_path = input('Chemin absolu du fichier à charger : \\n')\n",
    "# data_avec_etiquettes.txt"
   ]
  },
  {
   "cell_type": "code",
   "execution_count": null,
   "metadata": {},
   "outputs": [],
   "source": [
    "# Variables pertinentes\n",
    "cols = ['V14', 'V84', 'V96', 'V159', 'V160', 'V161','V162','V163', \n",
    "        'V164', 'V165', 'V166', 'V167', 'V168', 'V169', 'V170', \n",
    "        'V171', 'V172', 'V173', 'V174', 'V175', 'V176', 'V177', \n",
    "        'V180', 'V181', 'V182', 'V183', 'V184', 'V185', 'V186', \n",
    "        'V187', 'V188', 'V189', 'V190', 'V191', 'V192', 'V193', \n",
    "        'V194', 'V195', 'V197', 'V198', 'V199','V200']\n",
    "\n",
    "# variables explicatives\n",
    "X = pd.read_csv(file_path,delimiter='\\t',usecols=cols\n",
    "[:-1])\n",
    "\n",
    "# variable cible  \n",
    "y = pd.read_csv(file_path,delimiter='\\t',usecols=[cols\n",
    "[-1]])   \n",
    "\n",
    "y=y.to_numpy().reshape(-1)\n",
    "\n",
    "# recodage des variables qualitatives\n",
    "X=pd.get_dummies(X, columns=['V160','V162'],drop_first=True)\n",
    "X[[\"V161\"]]=X[[\"V161\"]].apply(LabelEncoder().fit_transform) \n",
    "\n",
    "# Division apprentissage/test\n",
    "X_train,X_test,y_train,y_test=model_selection.train_test_split(X,y,\n",
    "test_size=0.3,stratify=y,random_state=42)\n",
    "\n",
    "# Apprentissage sur le train set\n",
    "dtree = DecisionTreeClassifier()\n",
    "dtree.fit(X_train,y_train) # met un peu de temps\n",
    "pred=dtree.predict(X_test)"
   ]
  },
  {
   "cell_type": "markdown",
   "metadata": {},
   "source": [
    "# Evaluation"
   ]
  },
  {
   "cell_type": "code",
   "execution_count": null,
   "metadata": {},
   "outputs": [],
   "source": [
    "df=pd.DataFrame({'y_test':pd.Series(y_test).value_counts(),'pred':pd.Series(pred).value_counts()})\n",
    "df=df.fillna(0)\n",
    "df=df.astype(int)\n",
    "df"
   ]
  },
  {
   "cell_type": "code",
   "execution_count": null,
   "metadata": {},
   "outputs": [],
   "source": [
    "print(df[df['y_test']==df['pred']].shape[0])"
   ]
  },
  {
   "cell_type": "code",
   "execution_count": null,
   "metadata": {},
   "outputs": [],
   "source": [
    "df=pd.DataFrame({'y_test':y_test,'prediction':pred})\n",
    "df[df['y_test']!=df['prediction']].shape[0]"
   ]
  },
  {
   "cell_type": "code",
   "execution_count": null,
   "metadata": {},
   "outputs": [],
   "source": [
    "# Taux du succès\n",
    "print(\"Taux de succès : \",accuracy_score(y_test,pred))\n",
    "\n",
    "#Calcul du taux d'erreur\n",
    "print(\"Taux d'erreur : \"+str(1.0-accuracy_score(y_test,pred)))"
   ]
  },
  {
   "cell_type": "code",
   "execution_count": null,
   "metadata": {},
   "outputs": [],
   "source": [
    "labels=list(set(y_test))\n",
    "labels.sort()\n",
    "precision = pd.DataFrame({\"precision_score\":precision_score(y_test,pred,average=None,labels=labels)},index=labels)\n",
    "precision"
   ]
  },
  {
   "cell_type": "code",
   "execution_count": null,
   "metadata": {},
   "outputs": [],
   "source": [
    "print(classification_report(y_test,pred))"
   ]
  },
  {
   "cell_type": "code",
   "execution_count": null,
   "metadata": {},
   "outputs": [],
   "source": [
    "#importance des variables\n",
    "imp = {\"VarName\":X_train.columns,\"Importance\":dtree.feature_importances_}\n",
    "print(pd.DataFrame(imp).sort_values(by=\"Importance\",ascending=False))"
   ]
  },
  {
   "cell_type": "code",
   "execution_count": null,
   "metadata": {},
   "outputs": [],
   "source": [
    "from sklearn.tree.export import export_text\n",
    "r=export_text(dtree,feature_names = list(X_train.columns))\n",
    "print(r)"
   ]
  }
 ],
 "metadata": {
  "kernelspec": {
   "display_name": "Python 3",
   "language": "python",
   "name": "python3"
  },
  "language_info": {
   "codemirror_mode": {
    "name": "ipython",
    "version": 3
   },
   "file_extension": ".py",
   "mimetype": "text/x-python",
   "name": "python",
   "nbconvert_exporter": "python",
   "pygments_lexer": "ipython3",
   "version": "3.8.3"
  }
 },
 "nbformat": 4,
 "nbformat_minor": 4
}
